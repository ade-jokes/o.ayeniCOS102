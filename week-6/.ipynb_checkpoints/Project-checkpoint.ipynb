{
 "cells": [
  {
   "cell_type": "code",
   "execution_count": 5,
   "id": "a2b4d60c-b7cc-43a0-9043-47543aec5312",
   "metadata": {},
   "outputs": [
    {
     "name": "stdout",
     "output_type": "stream",
     "text": [
      "SIMI SERVICES\n",
      "Your price is N10,000\n",
      "SIMI SERVICES\n",
      "Your price is N10,000\n",
      "SIMI SERVICES\n",
      "Your price is N10,000\n",
      "SIMI SERVICES\n",
      "Your price is N10,000\n",
      "SIMI SERVICES\n",
      "Your price is N10,000\n"
     ]
    }
   ],
   "source": [
    "import tkinter as tk\n",
    "from tkinter import messagebox\n",
    "\n",
    "def simi_service():\n",
    "    location = ['Ibeju-Lekki', 'Epe']\n",
    "    print(\"SIMI SERVICES\")\n",
    "    weight = int(weight_entry.get())\n",
    "    location = location_entry.get()\n",
    "\n",
    "    if weight >= 10 and location == \"Ibeju-Lekki\":\n",
    "        print(\"Your price is  N5,000\")\n",
    "    elif weight < 10 and location == \"Ibeju-Lekki\":\n",
    "        print(\"Your price is N3500\")\n",
    "    elif weight >= 10 and location == \"Epe\":\n",
    "        print(\"Your price is N10,000\")\n",
    "    elif weight < 10 and location == \"Epe\":\n",
    "        print(\"Your price is N5,000\")\n",
    "    else:\n",
    "        messagebox.showerror(\"Login\", \"Invalid username or password\")\n",
    "\n",
    "def delivery(weight, location):\n",
    "    # Create a Tkinter window\n",
    "    window = tk.Toplevel(root)\n",
    "    window.title(\"Admin Box\")\n",
    "    window.geometry(\"500x200\")\n",
    "\n",
    "    label_1 = tk.Label(window, text=\"This is the results of your order\")\n",
    "    label_1.pack()\n",
    "    label_2 = tk.Label(window, text=f\"Weight: {weight}, Location: {location}\\n\")\n",
    "    label_2.pack()\n",
    "\n",
    "    root.mainloop()\n",
    "\n",
    "# Create main window\n",
    "root = tk.Tk()\n",
    "root.title(\"Login Form\")\n",
    "root.geometry(\"500x200\")\n",
    "\n",
    "# Create weight Label and entry\n",
    "weight_label = tk.Label(root, text=\"Weight of the package:\")\n",
    "weight_label.pack()\n",
    "weight_entry = tk.Entry(root)\n",
    "weight_entry.pack()\n",
    "\n",
    "# Create location Label and entry\n",
    "location_label = tk.Label(root, text=\"Your location:\")\n",
    "location_label.pack()\n",
    "location_entry = tk.Entry(root)\n",
    "location_entry.pack()\n",
    "\n",
    "# Create submit button\n",
    "submit_button = tk.Button(root, text=\"Submit\", command=lambda: simi_service())\n",
    "submit_button.pack()\n",
    "\n",
    "# Run the main event loop\n",
    "root.mainloop()"
   ]
  },
  {
   "cell_type": "code",
   "execution_count": null,
   "id": "94e36d3a-aff8-4893-a2b9-8c2f90e43722",
   "metadata": {},
   "outputs": [],
   "source": []
  }
 ],
 "metadata": {
  "kernelspec": {
   "display_name": "Python 3 (ipykernel)",
   "language": "python",
   "name": "python3"
  },
  "language_info": {
   "codemirror_mode": {
    "name": "ipython",
    "version": 3
   },
   "file_extension": ".py",
   "mimetype": "text/x-python",
   "name": "python",
   "nbconvert_exporter": "python",
   "pygments_lexer": "ipython3",
   "version": "3.11.7"
  }
 },
 "nbformat": 4,
 "nbformat_minor": 5
}
