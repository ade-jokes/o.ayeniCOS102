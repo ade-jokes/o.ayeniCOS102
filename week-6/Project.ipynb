{
 "cells": [
  {
   "cell_type": "code",
   "execution_count": 1,
   "id": "a2b4d60c-b7cc-43a0-9043-47543aec5312",
   "metadata": {},
   "outputs": [],
   "source": [
    "import tkinter as tk\n",
    "from tkinter import messagebox\n",
    "\n",
    "def simi_service():\n",
    "    location = location_entry.get()\n",
    "    weight = int(weight_entry.get())\n",
    "\n",
    "    if weight >= 10 and location == \"Ibeju-Lekki\":\n",
    "        price = 5_000\n",
    "    elif weight < 10 and location == \"Ibeju-Lekki\":\n",
    "        price = 3_500\n",
    "    elif weight >= 10 and location == \"Epe\":\n",
    "        price = 10_000\n",
    "    elif weight < 10 and location == \"Epe\":\n",
    "        price = 5_000\n",
    "    else:\n",
    "        messagebox.showerror(\"Login\", \"Invalid location\")\n",
    "        return\n",
    "\n",
    "    delivery(weight, location, price)\n",
    "\n",
    "def delivery(weight, location, price):\n",
    "    # Create a Tkinter window\n",
    "    window = tk.Toplevel(root)\n",
    "    window.title(\"Order Results\")\n",
    "    window.geometry(\"500x200\")\n",
    "\n",
    "    label_1 = tk.Label(window, text=\"This is the results of your order\")\n",
    "    label_1.pack()\n",
    "    label_2 = tk.Label(window, text=f\"Weight: {weight}, Location: {location}\\n\")\n",
    "    label_2.pack()\n",
    "    label_3 = tk.Label(window, text=f\"Price: {price}\\n\")\n",
    "    label_3.pack()\n",
    "\n",
    "# Create main window\n",
    "root = tk.Tk()\n",
    "root.title(\"Login Form\")\n",
    "root.geometry(\"500x200\")\n",
    "\n",
    "# Create weight Label and entry\n",
    "weight_label = tk.Label(root, text=\"Weight of the package:\")\n",
    "weight_label.pack()\n",
    "weight_entry = tk.Entry(root)\n",
    "weight_entry.pack()\n",
    "\n",
    "# Create location Label and entry\n",
    "location_label = tk.Label(root, text=\"Your location:\")\n",
    "location_label.pack()\n",
    "location_entry = tk.Entry(root)\n",
    "location_entry.pack()\n",
    "\n",
    "# Create submit button\n",
    "submit_button = tk.Button(root, text=\"Submit\", command=simi_service)\n",
    "submit_button.pack()\n",
    "\n",
    "# Run the main event loop\n",
    "root.mainloop()"
   ]
  },
  {
   "cell_type": "code",
   "execution_count": 3,
   "id": "94e36d3a-aff8-4893-a2b9-8c2f90e43722",
   "metadata": {},
   "outputs": [
    {
     "ename": "TclError",
     "evalue": "couldn't open \"download.jpg\": no such file or directory",
     "output_type": "error",
     "traceback": [
      "\u001b[1;31m---------------------------------------------------------------------------\u001b[0m",
      "\u001b[1;31mTclError\u001b[0m                                  Traceback (most recent call last)",
      "Cell \u001b[1;32mIn[3], line 8\u001b[0m\n\u001b[0;32m      5\u001b[0m win\u001b[38;5;241m.\u001b[39mgeometry(\u001b[38;5;124m\"\u001b[39m\u001b[38;5;124m700x300\u001b[39m\u001b[38;5;124m\"\u001b[39m)\n\u001b[0;32m      7\u001b[0m \u001b[38;5;66;03m#Define the PhotoImage Constructor by passing the image file\u001b[39;00m\n\u001b[1;32m----> 8\u001b[0m img\u001b[38;5;241m=\u001b[39m tk\u001b[38;5;241m.\u001b[39mPhotoImage(file\u001b[38;5;241m=\u001b[39m\u001b[38;5;124m'\u001b[39m\u001b[38;5;124mdownload.jpg\u001b[39m\u001b[38;5;124m'\u001b[39m, master\u001b[38;5;241m=\u001b[39m win)\n\u001b[0;32m      9\u001b[0m img_label\u001b[38;5;241m=\u001b[39m tk\u001b[38;5;241m.\u001b[39mLabel(win,image\u001b[38;5;241m=\u001b[39mimg)\n\u001b[0;32m     11\u001b[0m \u001b[38;5;66;03m#define the position of the image\u001b[39;00m\n",
      "File \u001b[1;32mc:\\Users\\Omotayo\\anaconda3\\Lib\\tkinter\\__init__.py:4125\u001b[0m, in \u001b[0;36mPhotoImage.__init__\u001b[1;34m(self, name, cnf, master, **kw)\u001b[0m\n\u001b[0;32m   4120\u001b[0m \u001b[38;5;28;01mdef\u001b[39;00m \u001b[38;5;21m__init__\u001b[39m(\u001b[38;5;28mself\u001b[39m, name\u001b[38;5;241m=\u001b[39m\u001b[38;5;28;01mNone\u001b[39;00m, cnf\u001b[38;5;241m=\u001b[39m{}, master\u001b[38;5;241m=\u001b[39m\u001b[38;5;28;01mNone\u001b[39;00m, \u001b[38;5;241m*\u001b[39m\u001b[38;5;241m*\u001b[39mkw):\n\u001b[0;32m   4121\u001b[0m \u001b[38;5;250m    \u001b[39m\u001b[38;5;124;03m\"\"\"Create an image with NAME.\u001b[39;00m\n\u001b[0;32m   4122\u001b[0m \n\u001b[0;32m   4123\u001b[0m \u001b[38;5;124;03m    Valid resource names: data, format, file, gamma, height, palette,\u001b[39;00m\n\u001b[0;32m   4124\u001b[0m \u001b[38;5;124;03m    width.\"\"\"\u001b[39;00m\n\u001b[1;32m-> 4125\u001b[0m     Image\u001b[38;5;241m.\u001b[39m\u001b[38;5;21m__init__\u001b[39m(\u001b[38;5;28mself\u001b[39m, \u001b[38;5;124m'\u001b[39m\u001b[38;5;124mphoto\u001b[39m\u001b[38;5;124m'\u001b[39m, name, cnf, master, \u001b[38;5;241m*\u001b[39m\u001b[38;5;241m*\u001b[39mkw)\n",
      "File \u001b[1;32mc:\\Users\\Omotayo\\anaconda3\\Lib\\tkinter\\__init__.py:4072\u001b[0m, in \u001b[0;36mImage.__init__\u001b[1;34m(self, imgtype, name, cnf, master, **kw)\u001b[0m\n\u001b[0;32m   4070\u001b[0m \u001b[38;5;28;01mfor\u001b[39;00m k, v \u001b[38;5;129;01min\u001b[39;00m cnf\u001b[38;5;241m.\u001b[39mitems():\n\u001b[0;32m   4071\u001b[0m     options \u001b[38;5;241m=\u001b[39m options \u001b[38;5;241m+\u001b[39m (\u001b[38;5;124m'\u001b[39m\u001b[38;5;124m-\u001b[39m\u001b[38;5;124m'\u001b[39m\u001b[38;5;241m+\u001b[39mk, v)\n\u001b[1;32m-> 4072\u001b[0m \u001b[38;5;28mself\u001b[39m\u001b[38;5;241m.\u001b[39mtk\u001b[38;5;241m.\u001b[39mcall((\u001b[38;5;124m'\u001b[39m\u001b[38;5;124mimage\u001b[39m\u001b[38;5;124m'\u001b[39m, \u001b[38;5;124m'\u001b[39m\u001b[38;5;124mcreate\u001b[39m\u001b[38;5;124m'\u001b[39m, imgtype, name,) \u001b[38;5;241m+\u001b[39m options)\n\u001b[0;32m   4073\u001b[0m \u001b[38;5;28mself\u001b[39m\u001b[38;5;241m.\u001b[39mname \u001b[38;5;241m=\u001b[39m name\n",
      "\u001b[1;31mTclError\u001b[0m: couldn't open \"download.jpg\": no such file or directory"
     ]
    }
   ],
   "source": [
    "import tkinter as tk\n",
    "from PIL import ImageTk\n",
    "\n",
    "win = tk.Tk()\n",
    "win.geometry(\"700x300\")\n",
    "\n",
    "#Define the PhotoImage Constructor by passing the image file\n",
    "img= tk.PhotoImage(file='download.jpg', master= win)\n",
    "img_label= tk.Label(win,image=img)\n",
    "\n",
    "#define the position of the image\n",
    "img_label.place(x=0, y=0)\n",
    "\n",
    "win.mainloop()"
   ]
  },
  {
   "cell_type": "code",
   "execution_count": null,
   "id": "e732c928",
   "metadata": {},
   "outputs": [],
   "source": []
  }
 ],
 "metadata": {
  "kernelspec": {
   "display_name": "Python 3 (ipykernel)",
   "language": "python",
   "name": "python3"
  },
  "language_info": {
   "codemirror_mode": {
    "name": "ipython",
    "version": 3
   },
   "file_extension": ".py",
   "mimetype": "text/x-python",
   "name": "python",
   "nbconvert_exporter": "python",
   "pygments_lexer": "ipython3",
   "version": "3.11.7"
  }
 },
 "nbformat": 4,
 "nbformat_minor": 5
}
