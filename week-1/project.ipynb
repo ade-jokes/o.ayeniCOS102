{
 "cells": [
  {
   "cell_type": "code",
   "execution_count": null,
   "id": "c43669e1-f783-4bcf-ae4f-a10cc154dc2f",
   "metadata": {
    "scrolled": true
   },
   "outputs": [
    {
     "ename": "",
     "evalue": "",
     "output_type": "error",
     "traceback": [
      "\u001b[1;31mRunning cells with 'Python 3.11.9' requires the ipykernel package.\n",
      "\u001b[1;31mRun the following command to install 'ipykernel' into the Python environment. \n",
      "\u001b[1;31mCommand: 'c:/Users/Omotayo/AppData/Local/Microsoft/WindowsApps/python3.11.exe -m pip install ipykernel -U --user --force-reinstall'"
     ]
    }
   ],
   "source": [
    "#Simple interest\n",
    "r=input(\"Please input the value of r\")\n",
    "r= float(r)\n",
    "b=r/100\n",
    "b=float(b)\n",
    "t=input(\"Please input the value of t\")\n",
    "t= float(t)\n",
    "w= 1+b+t\n",
    "w= float(w)\n",
    "p=input(\"Please input the value of p\")\n",
    "p= float(p)\n",
    "s= w*t\n",
    "s=float(s)\n",
    "a= p*s\n",
    "a= float(a)\n",
    "print(a)\n"
   ]
  },
  {
   "cell_type": "code",
   "execution_count": 1,
   "id": "a12356da-4a1d-4166-bfde-9ad68f34d94e",
   "metadata": {},
   "outputs": [
    {
     "name": "stdout",
     "output_type": "stream",
     "text": [
      "Your answer is:\n",
      "4103046471260.4155\n"
     ]
    }
   ],
   "source": [
    "#Annuity Plan\n",
    "r=input(\"Please input the value of r\")\n",
    "r= float(r)\n",
    "t=input(\"Please input the value of t\")\n",
    "t= float(t)\n",
    "n= input(\"Please input the value of n\")\n",
    "n= float(n)\n",
    "m= input(\"Please input the value of m\")\n",
    "m=float(m)\n",
    "b=r/n\n",
    "b=float(b)\n",
    "w= 1+b\n",
    "w= float(w)\n",
    "x= n*t\n",
    "x= float(x)\n",
    "c= w**x\n",
    "c= float(c)\n",
    "f= c-1\n",
    "f= float(f)\n",
    "p=input(\"Please input the value of p\")\n",
    "p= float(p)\n",
    "u= p*m*t\n",
    "u= float(u)\n",
    "v= f/b\n",
    "v= float(v)\n",
    "a= u*v\n",
    "a=float(a)\n",
    "print(\"Your answer is:\")\n",
    "print(a)"
   ]
  },
  {
   "cell_type": "code",
   "execution_count": 2,
   "id": "dcccf2be-6897-46ed-8bed-2a29d23b8776",
   "metadata": {},
   "outputs": [
    {
     "name": "stdout",
     "output_type": "stream",
     "text": [
      "167772160.0\n"
     ]
    }
   ],
   "source": [
    "#Compound interest\n",
    "r=input(\"Please input the value of r\")\n",
    "r= float(r)\n",
    "t=input(\"Please input the value of t\")\n",
    "t= float(t)\n",
    "n= input(\"Please input the value of n\")\n",
    "n= float(n)\n",
    "b=r/n\n",
    "b=float(b)\n",
    "w= 1+b\n",
    "w= float(w)\n",
    "x= n*t\n",
    "x= float(x)\n",
    "p=input(\"Please input the value of p\")\n",
    "p= float(p)\n",
    "a= p*(w**x)\n",
    "a= float(a)\n",
    "print(a)\n"
   ]
  },
  {
   "cell_type": "code",
   "execution_count": null,
   "id": "589add7d-b924-406c-926c-cd928c0c344d",
   "metadata": {},
   "outputs": [],
   "source": []
  }
 ],
 "metadata": {
  "kernelspec": {
   "display_name": "Python 3 (ipykernel)",
   "language": "python",
   "name": "python3"
  },
  "language_info": {
   "codemirror_mode": {
    "name": "ipython",
    "version": 3
   },
   "file_extension": ".py",
   "mimetype": "text/x-python",
   "name": "python",
   "nbconvert_exporter": "python",
   "pygments_lexer": "ipython3",
   "version": "3.11.7"
  }
 },
 "nbformat": 4,
 "nbformat_minor": 5
}
