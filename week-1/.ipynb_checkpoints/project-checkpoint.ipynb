{
 "cells": [
  {
   "cell_type": "code",
   "execution_count": 1,
   "id": "c43669e1-f783-4bcf-ae4f-a10cc154dc2f",
   "metadata": {
    "scrolled": true
   },
   "outputs": [
    {
     "name": "stdin",
     "output_type": "stream",
     "text": [
      "Please input the valu 5.0\n",
      "Please input the valu 9.6\n",
      "Please input the valu 8.11\n"
     ]
    },
    {
     "name": "stdout",
     "output_type": "stream",
     "text": [
      "829.1664\n"
     ]
    }
   ],
   "source": [
    "#Simple interest\n",
    "r=input(\"Please input the value of r\")\n",
    "r= float(r)\n",
    "b=r/100\n",
    "b=float(b)\n",
    "t=input(\"Please input the value of t\")\n",
    "t= float(t)\n",
    "w= 1+b+t\n",
    "w= float(w)\n",
    "p=input(\"Please input the value of p\")\n",
    "p= float(p)\n",
    "s= w*t\n",
    "s=float(s)\n",
    "a= p*s\n",
    "a= float(a)\n",
    "print(a)\n"
   ]
  },
  {
   "cell_type": "code",
   "execution_count": 8,
   "id": "a12356da-4a1d-4166-bfde-9ad68f34d94e",
   "metadata": {},
   "outputs": [
    {
     "name": "stdin",
     "output_type": "stream",
     "text": [
      "Please input the value of r 6.6\n",
      "Please input the value of t 7.8\n",
      "Please input the value of n 8.9\n",
      "Please input the value of m 7.7\n",
      "Please input the value of p 8.5\n"
     ]
    },
    {
     "name": "stdout",
     "output_type": "stream",
     "text": [
      "3.664566021016381e+19\n"
     ]
    }
   ],
   "source": [
    "#Annuity Plan\n",
    "r=input(\"Please input the value of r\")\n",
    "r= float(r)\n",
    "t=input(\"Please input the value of t\")\n",
    "t= float(t)\n",
    "n= input(\"Please input the value of n\")\n",
    "n= float(n)\n",
    "m= input(\"Please input the value of m\")\n",
    "m=float(m)\n",
    "b=r/n\n",
    "b=float(b)\n",
    "w= 1+b\n",
    "w= float(w)\n",
    "x= n*t\n",
    "x= float(x)\n",
    "c= w**x\n",
    "c= float(c)\n",
    "f= c-1\n",
    "f= float(f)\n",
    "p=input(\"Please input the value of p\")\n",
    "p= float(p)\n",
    "u= p*m*t\n",
    "u= float(u)\n",
    "v= f/b\n",
    "v= float(v)\n",
    "a= u*v\n",
    "a=float(a)\n",
    "print(\"Your answer is:\")\n",
    "print(a)"
   ]
  },
  {
   "cell_type": "code",
   "execution_count": 4,
   "id": "dcccf2be-6897-46ed-8bed-2a29d23b8776",
   "metadata": {},
   "outputs": [
    {
     "name": "stdin",
     "output_type": "stream",
     "text": [
      "Please input the value of r 8.00\n",
      "Please input the value of t 9.00\n",
      "Please input the value of n 7.99\n",
      "Please input the value of p 5.7\n"
     ]
    },
    {
     "ename": "TypeError",
     "evalue": "unsupported operand type(s) for ^: 'float' and 'float'",
     "output_type": "error",
     "traceback": [
      "\u001b[1;31m---------------------------------------------------------------------------\u001b[0m",
      "\u001b[1;31mTypeError\u001b[0m                                 Traceback (most recent call last)",
      "Cell \u001b[1;32mIn[4], line 16\u001b[0m\n\u001b[0;32m     14\u001b[0m p\u001b[38;5;241m=\u001b[39m\u001b[38;5;28minput\u001b[39m(\u001b[38;5;124m\"\u001b[39m\u001b[38;5;124mPlease input the value of p\u001b[39m\u001b[38;5;124m\"\u001b[39m)\n\u001b[0;32m     15\u001b[0m p\u001b[38;5;241m=\u001b[39m \u001b[38;5;28mfloat\u001b[39m(p)\n\u001b[1;32m---> 16\u001b[0m a\u001b[38;5;241m=\u001b[39m p\u001b[38;5;241m*\u001b[39m(w\u001b[38;5;241m^\u001b[39mx)\n\u001b[0;32m     17\u001b[0m a\u001b[38;5;241m=\u001b[39m \u001b[38;5;28mfloat\u001b[39m(a)\n\u001b[0;32m     18\u001b[0m \u001b[38;5;28mprint\u001b[39m(a)\n",
      "\u001b[1;31mTypeError\u001b[0m: unsupported operand type(s) for ^: 'float' and 'float'"
     ]
    }
   ],
   "source": [
    "#Compound interest\n",
    "r=input(\"Please input the value of r\")\n",
    "r= float(r)\n",
    "t=input(\"Please input the value of t\")\n",
    "t= float(t)\n",
    "n= input(\"Please input the value of n\")\n",
    "n= float(n)\n",
    "b=r/n\n",
    "b=float(b)\n",
    "w= 1+b\n",
    "w= float(w)\n",
    "x= n*t\n",
    "x= float(x)\n",
    "p=input(\"Please input the value of p\")\n",
    "p= float(p)\n",
    "a= p*(w^x)\n",
    "a= float(a)\n",
    "print(a)\n"
   ]
  },
  {
   "cell_type": "code",
   "execution_count": null,
   "id": "589add7d-b924-406c-926c-cd928c0c344d",
   "metadata": {},
   "outputs": [],
   "source": []
  }
 ],
 "metadata": {
  "kernelspec": {
   "display_name": "Python 3 (ipykernel)",
   "language": "python",
   "name": "python3"
  },
  "language_info": {
   "codemirror_mode": {
    "name": "ipython",
    "version": 3
   },
   "file_extension": ".py",
   "mimetype": "text/x-python",
   "name": "python",
   "nbconvert_exporter": "python",
   "pygments_lexer": "ipython3",
   "version": "3.11.7"
  }
 },
 "nbformat": 4,
 "nbformat_minor": 5
}
