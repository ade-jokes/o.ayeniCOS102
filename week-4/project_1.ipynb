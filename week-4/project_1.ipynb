{
 "cells": [
  {
   "cell_type": "code",
   "execution_count": 18,
   "id": "025b09c7-2449-4481-be4c-1054da97e03d",
   "metadata": {},
   "outputs": [
    {
     "name": "stdout",
     "output_type": "stream",
     "text": [
      "THE FORMAT IN TABULAR FORM\n",
      "Names  ['   Age Height     Scores']\n",
      "Evelyn    [' 17  5.5          80']\n",
      "Jessica   [' 16  6.0          85']\n",
      "Somoto    [' 17  5.4          70']\n",
      "Edith     [' 20  6.0          60']\n",
      "Liza      [' 18  5.9          76']\n",
      "Madonna  ['  16  5.6          66']\n",
      "Waje     ['  18  5.5          87']\n",
      "Tola     ['  17  6.1          95']\n",
      "Aisha     [' 19  5.7          50']\n",
      "Latifa    [' 17  5.5          49']\n",
      "\n",
      "\n",
      "Names  ['  Age  Height     Scores']\n",
      "Chinedu [' 19    5.7               74']\n",
      " Liam ['   16    5.9               87']\n",
      " Wale ['   18    5.8               75']\n",
      " Gbenga [' 17    6.1               68']\n",
      "Abiola ['  20    5.9               66']\n",
      " Kola ['   19    5.5               78']\n",
      " Kunle ['  16    6.1               87']\n",
      " George [' 18    5.4               98']\n",
      " Thomas [' 17    5.8               54']\n",
      " Wesley [' 17    5.7               60']\n"
     ]
    }
   ],
   "source": [
    "# Names of girls\n",
    "print(\"THE FORMAT IN TABULAR FORM\")\n",
    "\n",
    "girls ={'Names ': ['   Age'+' Height '+'    Scores'],\n",
    "'Evelyn   ':[' 17'+'  5.5 '+'         80'], \n",
    "'Jessica  ':[' 16'+'  6.0 '+'         85'],\n",
    "'Somoto   ':[' 17'+'  5.4 '+'         70'],\n",
    "'Edith    ':[' 20'+'  6.0'+'          60'],\n",
    "'Liza     ':[' 18'+'  5.9'+'          76'],\n",
    "'Madonna ': ['  16'+'  5.6 '+'         66'],\n",
    "'Waje    ': ['  18'+'  5.5'+'          87'],\n",
    "'Tola    ': ['  17'+'  6.1   '+'       95'],\n",
    "'Aisha    ':[' 19'+'  5.7   '+'       50'],\n",
    "'Latifa   ':[' 17'+'  5.5   '+'       49'] } \n",
    "\n",
    "boys={'Names ': ['  Age '+' Height '+'    Scores'],\n",
    "'Chinedu':[' 19  '+'  5.7   '+'            74'], \n",
    "' Liam':['   16'+'    5.9'+'               87'],\n",
    "' Wale':['   18'+'    5.8 '+'              75'],\n",
    "' Gbenga':[' 17  '+'  6.1  '+'             68'],\n",
    "'Abiola':['  20 '+'   5.9 '+'              66'],\n",
    "' Kola': ['   19  '+'  5.5  '+'             78'],\n",
    "' Kunle': ['  16   '+' 6.1   '+'            87'],\n",
    "' George': [' 18    '+'5.4       '+'        98'],\n",
    "' Thomas':[' 17  '+'  5.8    '+'           54'],\n",
    "' Wesley':[' 17  '+'  5.7    '+'           60'] } \n",
    "\n",
    "for p in girls:\n",
    "    print(p, girls[p])\n",
    "print(\"\\n\")\n",
    "\n",
    "for p in boys:\n",
    "    print(p,boys[p])"
   ]
  },
  {
   "cell_type": "code",
   "execution_count": 1,
   "id": "1f4d4856-7449-45db-b5d5-bb8be7d66e60",
   "metadata": {},
   "outputs": [],
   "source": [
    "experience = int(input(\"Enter years of experience: \"))\n",
    "age = int(input(\"Enter age: \"))\n",
    "\n",
    "if experience > 25 and age >= 55:\n",
    "    atr = 5600000\n",
    "elif experience > 20 and age >= 45:\n",
    "    atr = 4480000\n",
    "elif experience > 10 and age >= 35:\n",
    "    atr = 1500000\n",
    "else:\n",
    "    atr = 550000\n",
    "\n",
    "print(f\"The Annual Tax Revenue (ATR) is: N{atr}\")"
   ]
  },
  {
   "cell_type": "code",
   "execution_count": null,
   "id": "395408b6-5f4c-4534-ac98-cd66612dac88",
   "metadata": {},
   "outputs": [],
   "source": []
  }
 ],
 "metadata": {
  "kernelspec": {
   "display_name": "Python 3 (ipykernel)",
   "language": "python",
   "name": "python3"
  },
  "language_info": {
   "codemirror_mode": {
    "name": "ipython",
    "version": 3
   },
   "file_extension": ".py",
   "mimetype": "text/x-python",
   "name": "python",
   "nbconvert_exporter": "python",
   "pygments_lexer": "ipython3",
   "version": "undefined.undefined.undefined"
  }
 },
 "nbformat": 4,
 "nbformat_minor": 5
}
