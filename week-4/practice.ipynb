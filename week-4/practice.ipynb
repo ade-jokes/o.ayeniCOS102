{
 "cells": [
  {
   "cell_type": "code",
   "execution_count": 4,
   "id": "1202daaa-c262-41fe-b159-4ec398afe0ad",
   "metadata": {},
   "outputs": [
    {
     "name": "stdout",
     "output_type": "stream",
     "text": [
      "Enter numbers to find their sum, negative number ends the loop:\n"
     ]
    },
    {
     "name": "stdin",
     "output_type": "stream",
     "text": [
      " 5\n",
      " 4\n",
      " 3\n",
      " 2\n",
      " 1\n",
      " 5\n",
      " 0\n",
      " 4\n",
      " 4\n",
      " -2\n"
     ]
    },
    {
     "name": "stdout",
     "output_type": "stream",
     "text": [
      "Sum = 28\n"
     ]
    }
   ],
   "source": [
    "entry = 0\n",
    "sum1 = 0\n",
    "print(\"Enter numbers to find their sum, negative number ends the loop:\")\n",
    "while True:\n",
    "#int() typecasts string to integer\n",
    "    entry = int(input())\n",
    "    if (entry < 0):\n",
    "        break\n",
    "    sum1 += entry\n",
    "print(\"Sum =\", sum1)"
   ]
  },
  {
   "cell_type": "code",
   "execution_count": 5,
   "id": "edc3ad64-5cf2-4d51-827d-a8b6b4379ee9",
   "metadata": {},
   "outputs": [
    {
     "name": "stdin",
     "output_type": "stream",
     "text": [
      "Enter name of City 1:  omot\n",
      "Enter name of City 2:  yes\n"
     ]
    },
    {
     "name": "stdout",
     "output_type": "stream",
     "text": [
      "The name of City 1 after swapping is yes\n",
      "The name of City 2 after swapping is omot\n"
     ]
    }
   ],
   "source": [
    "# Python program to swap two cities\n",
    "\n",
    "# To take inputs from the user\n",
    "city_1 = input('Enter name of City 1: ')\n",
    "city_2 = input('Enter name of City 2: ')\n",
    "\n",
    "# create a temporary variable and swap the cities\n",
    "temp = city_1\n",
    "city_1 = city_2\n",
    "city_2 = temp\n",
    "\n",
    "print(f\"The name of City 1 after swapping is {city_1}\")\n",
    "print(f\"The name of City 2 after swapping is {city_2}\")"
   ]
  },
  {
   "cell_type": "code",
   "execution_count": 7,
   "id": "b19629ec-60d8-4ba2-bbc5-28c8bea938ce",
   "metadata": {},
   "outputs": [
    {
     "name": "stdin",
     "output_type": "stream",
     "text": [
      "Enter a number:  3\n"
     ]
    },
    {
     "name": "stdout",
     "output_type": "stream",
     "text": [
      "Positive number\n"
     ]
    }
   ],
   "source": [
    "# Program to Check if a Number is Positive, Negative or 0\n",
    "\n",
    "num = float(input(\"Enter a number: \"))\n",
    "if num > 0:\n",
    "    print(\"Positive number\")\n",
    "elif num == 0:\n",
    "    print(\"Zero\")\n",
    "else:\n",
    "    print(\"Negative number\")"
   ]
  },
  {
   "cell_type": "code",
   "execution_count": 9,
   "id": "70382d61-7b51-4953-b995-8fd2ee24d017",
   "metadata": {},
   "outputs": [
    {
     "name": "stdout",
     "output_type": "stream",
     "text": [
      "Welcome to the COUPE DE ESCRIVA 2023: FOOTBALL PICKS \n",
      "\n",
      "Madiba:  Chubby Obiora-okafo\n",
      "Blue-Jays:  Christopher Uweh\n",
      "Cirok:  Alexander\n",
      "TSG Walkers:  Ikechukwu\n",
      "\n",
      "\n",
      "Madiba:  Chubby Obiora-okafo\n",
      "Blue-Jays:  Oladimeji Abaniwondea/Jeffery Awagu\n",
      "Cirok:  Timileyin Pearse/Izuako Jeremy\n",
      "TSG Walkers:  Ayomide ojituku\n"
     ]
    }
   ],
   "source": [
    "# COUPE DE ESCRIVA 2023: FOOTBALL PICKS\n",
    "\n",
    "print(\"Welcome to the COUPE DE ESCRIVA 2023: FOOTBALL PICKS \\n\")\n",
    "\n",
    "captain = {'Madiba: ': 'Chubby Obiora-okafo', 'Blue-Jays: ': 'Christopher Uweh',\n",
    "'Cirok: ': 'Alexander', 'TSG Walkers: ': 'Ikechukwu'}\n",
    "\n",
    "goalkeepers = {'Madiba: ': 'Chubby Obiora-okafo',\n",
    "'Blue-Jays: ': 'Oladimeji Abaniwondea/Jeffery Awagu',\n",
    "'Cirok: ': 'Timileyin Pearse/Izuako Jeremy',\n",
    "'TSG Walkers: ': 'Ayomide ojituku'}\n",
    "\n",
    "for pick in captain:\n",
    " print(pick, captain[pick])\n",
    "    \n",
    "print(\"\\n\")\n",
    "\n",
    "for pick in goalkeepers:\n",
    "  print(pick, goalkeepers[pick])"
   ]
  },
  {
   "cell_type": "code",
   "execution_count": null,
   "id": "98752c9d-7768-482d-b0cf-03555c863b45",
   "metadata": {},
   "outputs": [],
   "source": []
  }
 ],
 "metadata": {
  "kernelspec": {
   "display_name": "Python 3 (ipykernel)",
   "language": "python",
   "name": "python3"
  },
  "language_info": {
   "codemirror_mode": {
    "name": "ipython",
    "version": 3
   },
   "file_extension": ".py",
   "mimetype": "text/x-python",
   "name": "python",
   "nbconvert_exporter": "python",
   "pygments_lexer": "ipython3",
   "version": "3.11.7"
  }
 },
 "nbformat": 4,
 "nbformat_minor": 5
}
