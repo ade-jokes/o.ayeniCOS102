{
 "cells": [
  {
   "cell_type": "code",
   "execution_count": 7,
   "id": "3cfa0b59-d321-400e-a439-e06c75827923",
   "metadata": {},
   "outputs": [
    {
     "ename": "IndentationError",
     "evalue": "unexpected indent (3310609197.py, line 2)",
     "output_type": "error",
     "traceback": [
      "\u001b[1;36m  Cell \u001b[1;32mIn[7], line 2\u001b[1;36m\u001b[0m\n\u001b[1;33m    p= input(\"What is you name pls\")\u001b[0m\n\u001b[1;37m    ^\u001b[0m\n\u001b[1;31mIndentationError\u001b[0m\u001b[1;31m:\u001b[0m unexpected indent\n"
     ]
    }
   ],
   "source": [
    "import math\n",
    " p= input(\"What is you name pls\")\n",
    " print(\"Welcome \" + p + \" Let's start calculating\")\n",
    "print(\"Enter '1' for Cubic or '2' for Quadratic calculation:\")\n",
    "\n",
    "x = int(input(\"Your choice: \"))\n",
    "\n",
    "if x == 1:\n",
    "    a = float(input(\"Please input your a: \"))\n",
    "    b = float(input(\"Please input your b: \"))\n",
    "    c = float(input(\"Please input your c: \"))\n",
    "\n",
    "    if a == 0:\n",
    "        print(\"Error: The leading coefficient cannot be zero.\")\n",
    "        return\n",
    "\n",
    "    d = b**2 - 4*a*c\n",
    "    e = 2*a\n",
    "\n",
    "    if d > 0:\n",
    "        f = (-b + math.sqrt(d)) / e\n",
    "        g = (-b - math.sqrt(d)) / e\n",
    "        print(\"Roots of the quadratic equation:\")\n",
    "        print(f\"First root: {f}\")\n",
    "        print(f\"Second root: {g}\")\n",
    "    elif d == 0:\n",
    "        f = -b / (2 * a)\n",
    "        print(f\"Both roots are equal: {f}\")\n",
    "    else:\n",
    "        f = (-b + math.sqrt(d) * 1j) / e\n",
    "        g = (-b - math.sqrt(d) * 1j) / e\n",
    "        print(\"Roots of the quadratic equation:\")\n",
    "        print(f\"First root: {f}\")\n",
    "        print(f\"Second root: {g}\")\n",
    "\n",
    "elif x == 2:\n",
    "    # Coefficients for depressed cubic\n",
    "    a = float(input(\"Please input your a: \"))\n",
    "    b = float(input(\"Please input your b: \"))\n",
    "    c = float(input(\"Please input your c: \"))\n",
    "    d = float(input(\"Please input your d: \"))\n",
    "\n",
    "    if a == 0:\n",
    "        print(\"Error: The leading coefficient cannot be zero.\")\n",
    "        return\n",
    "\n",
    "    # Calculate discriminant for the cubic equation\n",
    "    p = (3*a*c - b**2) / (3*a**2)\n",
    "    q = (2*b**3 - 9*a*b*c + 27*a**2*d) / (27*a**3)\n",
    "\n",
    "    discriminant = (q/2)**2 + (p/3)**3\n",
    "    roots = []\n",
    "\n",
    "    if discriminant < 0:\n",
    "        # Three real roots\n",
    "        phi = 1/3 * math.acos(-q / 2 * math.sqrt(-27 / p**3))\n",
    "        root1 = 2 * math.sqrt(-p/3) * math.cos(phi)\n",
    "        root2 = 2 * math.sqrt(-p/3) * math.cos(phi + 2/3 * math.pi)\n",
    "        root3 = 2 * math.sqrt(-p/3) * math.cos(phi - 2/3 * math.pi)\n",
    "        roots.append(root1 - b / (3 * a))\n",
    "        roots.append(root2 - b / (3 * a))\n",
    "        roots.append(root3 - b / (3 * a))\n",
    "    elif discriminant == 0:\n",
    "        # Three real roots, two of them are identical\n",
    "        root1 = -2 * math.cbrt(q/2)\n",
    "        root2 = math.cbrt(q/2)\n",
    "        roots.append(root1 - b / (3 * a))\n",
    "        roots.append(root2 - b / (3 * a))\n",
    "        roots.append(root2 - b / (3 * a))\n",
    "    else:\n",
    "        # One real root, two complex roots\n",
    "        A = (-q/2 + math.sqrt(discriminant))**(1/3)\n",
    "        B = (-q/2 - math.sqrt(discriminant))**(1/3)\n",
    "        root1 = A + B\n",
    "        roots.append(root1 - b / (3 * a))\n",
    "\n",
    "    # Print the roots\n",
    "    print(\"Roots of the cubic equation:\")\n",
    "    for i, root in enumerate(roots):\n",
    "        print(f\"Root {i+1}: {root}\")\n",
    "\n",
    "else:\n",
    "    print(\"Error: Please enter a valid option.\")"
   ]
  },
  {
   "cell_type": "code",
   "execution_count": 2,
   "id": "82f250f7-e457-456b-be3a-10aa1ab7fad8",
   "metadata": {},
   "outputs": [
    {
     "name": "stdin",
     "output_type": "stream",
     "text": [
      "Enter coefficient of x^3:  4\n",
      "Enter coefficient of x^2:  5\n",
      "Enter coefficient of x:  7\n",
      "Enter constant term:  5\n"
     ]
    },
    {
     "name": "stdout",
     "output_type": "stream",
     "text": [
      "Roots of the cubic equation:\n",
      "Root 1: nan\n"
     ]
    },
    {
     "name": "stderr",
     "output_type": "stream",
     "text": [
      "C:\\Users\\Omotayo\\AppData\\Local\\Temp\\ipykernel_17256\\3836862246.py:33: RuntimeWarning: invalid value encountered in scalar power\n",
      "  B = (-q/2 - np.sqrt(discriminant))**(1/3)\n"
     ]
    }
   ],
   "source": []
  },
  {
   "cell_type": "code",
   "execution_count": null,
   "id": "30cddc49-b001-43ad-a4e6-18d216a8739b",
   "metadata": {},
   "outputs": [],
   "source": []
  }
 ],
 "metadata": {
  "kernelspec": {
   "display_name": "Python 3 (ipykernel)",
   "language": "python",
   "name": "python3"
  },
  "language_info": {
   "codemirror_mode": {
    "name": "ipython",
    "version": 3
   },
   "file_extension": ".py",
   "mimetype": "text/x-python",
   "name": "python",
   "nbconvert_exporter": "python",
   "pygments_lexer": "ipython3",
   "version": "3.11.7"
  }
 },
 "nbformat": 4,
 "nbformat_minor": 5
}
