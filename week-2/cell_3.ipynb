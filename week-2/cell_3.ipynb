{
 "cells": [
  {
   "cell_type": "code",
   "execution_count": 2,
   "id": "0b4d22d1-9239-4f82-a0d6-38193be72732",
   "metadata": {},
   "outputs": [
    {
     "ename": "SyntaxError",
     "evalue": "invalid syntax (3906241827.py, line 5)",
     "output_type": "error",
     "traceback": [
      "\u001b[1;36m  Cell \u001b[1;32mIn[2], line 5\u001b[1;36m\u001b[0m\n\u001b[1;33m    print(list[1:3]) ''' Prints elements starting from 2nd till 3rd'''\u001b[0m\n\u001b[1;37m                     ^\u001b[0m\n\u001b[1;31mSyntaxError\u001b[0m\u001b[1;31m:\u001b[0m invalid syntax\n"
     ]
    }
   ],
   "source": [
    "list = [ 'Anaconda', 786 , 2.23, 'Jupyter', 70.2 ]\n",
    "shortlist = [321, 'Python']\n",
    "print(list)  #Prints complete list '''\n",
    "print(list[0]) # Prints first element of the list\n",
    "print(list[1:3]) ''' Prints elements starting from 2nd till 3rd'''\n",
    "print(list[2:]) '''Prints elements starting from 3rd element'''\n",
    "print(shortlist * 2) # Prints List two times\n",
    "print(list + shortlist) # Prints concatenated Lists"
   ]
  },
  {
   "cell_type": "code",
   "execution_count": null,
   "id": "a26d2e45-2f9f-467a-ba75-dafacd9fb93f",
   "metadata": {},
   "outputs": [],
   "source": []
  }
 ],
 "metadata": {
  "kernelspec": {
   "display_name": "Python 3 (ipykernel)",
   "language": "python",
   "name": "python3"
  },
  "language_info": {
   "codemirror_mode": {
    "name": "ipython",
    "version": 3
   },
   "file_extension": ".py",
   "mimetype": "text/x-python",
   "name": "python",
   "nbconvert_exporter": "python",
   "pygments_lexer": "ipython3",
   "version": "3.11.7"
  }
 },
 "nbformat": 4,
 "nbformat_minor": 5
}
