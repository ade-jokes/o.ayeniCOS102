{
 "cells": [
  {
   "cell_type": "code",
   "execution_count": 1,
   "id": "3cfa0b59-d321-400e-a439-e06c75827923",
   "metadata": {},
   "outputs": [
    {
     "name": "stdin",
     "output_type": "stream",
     "text": [
      "What is your name pls DARA\n"
     ]
    },
    {
     "name": "stdout",
     "output_type": "stream",
     "text": [
      "Welcome DARA Let's start calculating\n",
      "Enter '1' for Cubic,'2' for Quadratic c, '3' for quatric calculation:\n"
     ]
    },
    {
     "name": "stdin",
     "output_type": "stream",
     "text": [
      "Your choice:  2\n",
      "Please input your a:  5\n",
      "Please input your b:  9\n",
      "Please input your c:  14\n"
     ]
    },
    {
     "name": "stdout",
     "output_type": "stream",
     "text": [
      "Complex equation, one real root and one complex root\n",
      "Real root: -0.9\n",
      "Complex root: 1.4106735979665885 x 1j\n"
     ]
    }
   ],
   "source": [
    "import math\n",
    "\n",
    "p = input(\"What is your name pls\")\n",
    "print(\"Welcome \" + p + \" Let's start calculating\")\n",
    "\n",
    "print(\"Enter '1' for Cubic,'2' for Quadratic c, '3' for quatric calculation:\")\n",
    "\n",
    "x = int(input(\"Your choice: \"))\n",
    "\n",
    "if x == 2:\n",
    "    a = float(input(\"Please input your a: \"))\n",
    "    b = float(input(\"Please input your b: \"))\n",
    "    c = float(input(\"Please input your c: \"))\n",
    "\n",
    "    d = b**2 - 4*a*c\n",
    "    e = 2*a\n",
    "    if d > 0:\n",
    "        f = (-b + math.sqrt(d)) / (2 * a)\n",
    "        g = (-b - math.sqrt(d)) / (2 * a)\n",
    "        print(\"Roots of the quadratic equation:\")\n",
    "        print(f\"First root: {f}\")\n",
    "        print(f\"Second root: {g}\")\n",
    "    elif b == 0:\n",
    "        f = -b / (2 * a)\n",
    "        print(f\"Both roots are equal: {f}\")\n",
    "    else:\n",
    "        print(\"Complex equation, one real root and one complex root\")\n",
    "        f = -b / (2 * a)\n",
    "        g = math.sqrt(-d) / (2 * a)\n",
    "        print(f\"Real root: {f}\")\n",
    "        print(f\"Complex root: {g} x {1j}\")\n",
    "elif x == 1:\n",
    "    # Coefficients for depressed cubic\n",
    "    a = float(input(f\"Please input your a: \"))\n",
    "    b = float(input(f\"Please input your b: \"))\n",
    "    c = float(input(f\"Please input your c: \"))\n",
    "    d = float(input(f\"Please input your d: \"))\n",
    "\n",
    "    # Calculate discriminant for the cubic equation\n",
    "    p = (3*a*c - b**2) / (3*a**2)\n",
    "    q = (2*b**3 - 9*a*b*c + 27*a**2*d) / (27*a**3)\n",
    "\n",
    "    dis = (q/2)**2 + (p/3)**3\n",
    "    roots = [ ]\n",
    "\n",
    "    if dis < 0:\n",
    "        # Three real roots\n",
    "        phi = 1/3 * math.acos(-q / 2 * math.sqrt(-27 / p**3))\n",
    "        root1 = 2 * math.sqrt(-p/3) * math.cos(phi)\n",
    "        root2 = 2 * math.sqrt(-p/3) * math.cos(phi + 2/3 * math.pi)\n",
    "        root3 = 2 * math.sqrt(-p/3) * math.cos(phi - 2/3 * math.pi)\n",
    "        roots.append(root1 - b / (3 * a))\n",
    "        roots.append(root2 - b / (3 * a))\n",
    "        roots.append(root3 - b / (3 * a))\n",
    "        print(\" # Three real roots\")\n",
    "    elif dis == 0:\n",
    "        # Three real roots, two of them are identical\n",
    "        root1 = -2 * math.cbrt(q/2)\n",
    "        root2 = math.cbrt(q/2)\n",
    "        roots.append(root1 - b / (3 * a))\n",
    "        roots.append(root2 - b / (3 * a))\n",
    "        roots.append(root2 - b / (3 * a))\n",
    "        print(\"  # Three real roots, two of them are identical\")\n",
    "    else:\n",
    "        # One real root, two complex roots\n",
    "        A = (-q/2 + math.sqrt(dis))**(1/3)\n",
    "        B = (-q/2 - math.sqrt(dis))**(1/3)\n",
    "        root1 = A + B\n",
    "        roots.append(root1 - b / (3 * a))\n",
    "        print(\" # One real root, two complex roots\")\n",
    "\n",
    "    # Print the roots\n",
    "    print(\"Roots of the cubic equation:\")\n",
    "    for i, root in enumerate(roots):\n",
    "        print(f\"Root {i+1}: {roots}\")\n",
    "\n",
    "else:\n",
    "    print(\"Error: Please enter a valid option.\")"
   ]
  },
  {
   "cell_type": "code",
   "execution_count": null,
   "id": "30cddc49-b001-43ad-a4e6-18d216a8739b",
   "metadata": {},
   "outputs": [],
   "source": []
  },
  {
   "cell_type": "code",
   "execution_count": null,
   "id": "1d59b724-67c6-4ce3-a415-b30ad835aac3",
   "metadata": {},
   "outputs": [],
   "source": []
  }
 ],
 "metadata": {
  "kernelspec": {
   "display_name": "Python 3 (ipykernel)",
   "language": "python",
   "name": "python3"
  },
  "language_info": {
   "codemirror_mode": {
    "name": "ipython",
    "version": 3
   },
   "file_extension": ".py",
   "mimetype": "text/x-python",
   "name": "python",
   "nbconvert_exporter": "python",
   "pygments_lexer": "ipython3",
   "version": "3.11.7"
  }
 },
 "nbformat": 4,
 "nbformat_minor": 5
}
