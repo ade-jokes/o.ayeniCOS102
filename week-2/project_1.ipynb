{
 "cells": [
  {
   "cell_type": "code",
   "execution_count": 1,
   "id": "ca50e00a-f59f-4f1a-9d37-7441ffa298ba",
   "metadata": {},
   "outputs": [
    {
     "ename": "SyntaxError",
     "evalue": "invalid syntax (631855071.py, line 2)",
     "output_type": "error",
     "traceback": [
      "\u001b[1;36m  Cell \u001b[1;32mIn[1], line 2\u001b[1;36m\u001b[0m\n\u001b[1;33m    COMPUTE \"Welcome to the store's checkpoint\"\u001b[0m\n\u001b[1;37m            ^\u001b[0m\n\u001b[1;31mSyntaxError\u001b[0m\u001b[1;31m:\u001b[0m invalid syntax\n"
     ]
    }
   ],
   "source": [
    "START\n",
    "COMPUTE \"Welcome to the store's checkpoint\"\n",
    "INPUT total_cost= 0\n",
    "lOOP:\n",
    "    COMPUTE \"Enter your purchase(\"DONE when finished\")\"\n",
    "READ object_name\n",
    "IF object_name = \"Done\", exit loop\n",
    "COMPUTE \"Enter object price\"\n",
    "READ object_price\n",
    "INPUT total_cost= $total_cost\n",
    "COMPUTE \"Input the payment amount\"\n",
    "READ Payment_amount\n",
    "IF payment_amount< total_cost\n",
    "    COMPUTE \"SAPA is running after you. Better try running faster\"\n",
    "     Go bact to (\"Input the payment amount\")\n",
    "ELSE IF payment_amount == total_cost:\n",
    "    COMPUTE \"Payment received, Thank you for purchasing.\"\n",
    "ELSE \n",
    "   COMPUTE \"Payment received, you will receive your change shortly\"\n",
    "END"
   ]
  },
  {
   "cell_type": "code",
   "execution_count": 2,
   "id": "ac10ac13-e9da-4fda-b491-615cf4c2c9d1",
   "metadata": {},
   "outputs": [
    {
     "ename": "SyntaxError",
     "evalue": "invalid syntax (2151417255.py, line 2)",
     "output_type": "error",
     "traceback": [
      "\u001b[1;36m  Cell \u001b[1;32mIn[2], line 2\u001b[1;36m\u001b[0m\n\u001b[1;33m    COMPUTE wake up at 6:00\u001b[0m\n\u001b[1;37m            ^\u001b[0m\n\u001b[1;31mSyntaxError\u001b[0m\u001b[1;31m:\u001b[0m invalid syntax\n"
     ]
    }
   ],
   "source": [
    "START\n",
    "COMPUTE wake up at 6:00\n",
    "IF going out early \n",
    "COMPUTE wake up by 4:30\n",
    "COMPUTE Pray, read the bible\n",
    "COMPUTE Morning hygine:\n",
    "    brush teeth\n",
    "    wash face\n",
    "    have my bath\n",
    "    facial care\n",
    "COMPUTE get dressed\n",
    "COMPUTE Practice voacl training\n",
    "COMPUTE drink green tea\n",
    "COMPUTE look for suitable music to go walk to school\n",
    "COMPUTE check classes/task for the entire day\n",
    "COMPUTE carry bag\n",
    "COMPUTE Leave dorm\n",
    "COMPUTE Get to the suitable classroom for the classes\n",
    "COMPUTE Pick the most suitable sit\n",
    "COMPUTE Sit down\n",
    "END\n"
   ]
  },
  {
   "cell_type": "code",
   "execution_count": 3,
   "id": "cdf4de3d-a9d5-4241-a78f-8aa545355acb",
   "metadata": {},
   "outputs": [
    {
     "ename": "SyntaxError",
     "evalue": "invalid syntax (4045546218.py, line 2)",
     "output_type": "error",
     "traceback": [
      "\u001b[1;36m  Cell \u001b[1;32mIn[3], line 2\u001b[1;36m\u001b[0m\n\u001b[1;33m    Input name1, age1, name2, age2\u001b[0m\n\u001b[1;37m          ^\u001b[0m\n\u001b[1;31mSyntaxError\u001b[0m\u001b[1;31m:\u001b[0m invalid syntax\n"
     ]
    }
   ],
   "source": [
    "Start\n",
    "Input name1, age1, name2, age2\n",
    "COMPUTE \"Before swapping:\"\n",
    "COMPUTE \"Name1: name2, Age1: age1\"\n",
    "COMPUTE \"Name2: name1 , Age2: age2\"\n",
    "Swap age1 and age2\n",
    "COMPUTE \"After swapping:\"\n",
    "COMPUTE \"Name1: name1, Age1: age2\"\n",
    "COMPUTE \"Name2: name2, Age2: age1\"\n",
    "End\n"
   ]
  },
  {
   "cell_type": "code",
   "execution_count": null,
   "id": "08201c6b-1810-46ea-9f1f-4c0f78f3462a",
   "metadata": {},
   "outputs": [],
   "source": [
    "Start\n",
    "Prompt the user for their name and store it in variable `p`.\n",
    "Display a welcome message with the user's name.\n",
    "Prompt the user to choose the operation: cubic or quadratic calculation.\n",
    "Read the user's choice and store it in variable `x`.\n",
    "If `x` is equal to 2:\n",
    "Prompt the user to input coefficients `a`, `b`, and `c` for the quadratic equation.\n",
    "Calculate the discriminant `d` using the formula `b^2 - 4*a*c`.\n",
    "Calculate `e` as `2*a`.\n",
    "    - If `d` is greater than 0:\n",
    "        - Calculate the roots `f` and `g` using the quadratic formula.\n",
    "        - Display the roots of the quadratic equation.\n",
    "Else if `b` is equal to 0:\n",
    "     - Calculate the root `f` when the discriminant is zero.\n",
    "     - Display both roots are equal.\n",
    "Else:\n",
    "Calculate the real and imaginary parts of the complex roots.\n",
    "Display the roots as one real and one complex.\n",
    "Else if `x` is equal to 1:\n",
    "Prompt the user to input coefficients `a`, `b`, `c`, and `d` for the cubic equation.\n",
    "Calculate the coefficients `p` and `q` for the depressed cubic.\n",
    "Calculate the discriminant `dis`.\n",
    "If `dis` is less than 0:\n",
    " Calculate the roots using trigonometric functions and complex numbers.\n",
    "    - Append the roots to the list `roots`.\n",
    "    - Display that there are three real roots.\n",
    "Else if `dis` is equal to 0:\n",
    " - Calculate the roots when there are three real roots, two of them are identical.\n",
    " - Append the roots to the list `roots`.\n",
    " - Display that there are three real roots, two of them are identical.\n",
    " Else:\n",
    " Calculate the real and imaginary parts of the complex roots.\n",
    " Append the roots to the list `roots`.\n",
    " Display that there is one real root and two complex roots.\n",
    " Display the roots of the cubic equation.\n",
    " Else:\n",
    " Display an error message for an invalid option.\n",
    " End"
   ]
  }
 ],
 "metadata": {
  "kernelspec": {
   "display_name": "Python 3 (ipykernel)",
   "language": "python",
   "name": "python3"
  },
  "language_info": {
   "codemirror_mode": {
    "name": "ipython",
    "version": 3
   },
   "file_extension": ".py",
   "mimetype": "text/x-python",
   "name": "python",
   "nbconvert_exporter": "python",
   "pygments_lexer": "ipython3",
   "version": "3.11.7"
  }
 },
 "nbformat": 4,
 "nbformat_minor": 5
}
