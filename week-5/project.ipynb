{
 "cells": [
  {
   "cell_type": "code",
   "execution_count": 1,
   "id": "493e754d-3ae2-49cd-8cf0-cfb0bac25b8b",
   "metadata": {},
   "outputs": [
    {
     "ename": "ModuleNotFoundError",
     "evalue": "No module named 'pandas'",
     "output_type": "error",
     "traceback": [
      "\u001b[1;31m---------------------------------------------------------------------------\u001b[0m",
      "\u001b[1;31mModuleNotFoundError\u001b[0m                       Traceback (most recent call last)",
      "Cell \u001b[1;32mIn[1], line 1\u001b[0m\n\u001b[1;32m----> 1\u001b[0m \u001b[38;5;28;01mimport\u001b[39;00m \u001b[38;5;21;01mpandas\u001b[39;00m \u001b[38;5;28;01mas\u001b[39;00m \u001b[38;5;21;01mpd\u001b[39;00m\n\u001b[0;32m      2\u001b[0m \u001b[38;5;28;01mfrom\u001b[39;00m \u001b[38;5;21;01mtkinter\u001b[39;00m \u001b[38;5;28;01mimport\u001b[39;00m \u001b[38;5;241m*\u001b[39m\n\u001b[0;32m      4\u001b[0m \u001b[38;5;66;03m# read the dataset\u001b[39;00m\n",
      "\u001b[1;31mModuleNotFoundError\u001b[0m: No module named 'pandas'"
     ]
    }
   ],
   "source": [
    "import pandas as pd\n",
    "from tkinter import *\n",
    "\n",
    "# read the dataset\n",
    "employees = pd.read_csv('GIG-logistics.csv')\n",
    "\n",
    "# Function to check employee and display the  details\n",
    "def check_employee():\n",
    "    name = name_entry.get().strip()\n",
    "    department = department_entry.get().strip()\n",
    "    \n",
    "    employee_data = employees[(employees['SURNAME'] == name) & (employees['DEPARTMENT'] == department)]\n",
    "\n",
    "    if not employee_data.empty:\n",
    "        welcome_label.config(text=f\"Welcome {name} from {department} department!\")\n",
    "        members = employees.loc[employees['DEPARTMENT'] == department, 'SURNAME'].tolist()\n",
    "        members.remove(name)\n",
    "        members_label.config(text=f\"Other members in {department} department:\\n\" + \"\\n\".join(members))\n",
    "    else:\n",
    "        welcome_label.config(text=\"Employee does not exist.\")\n",
    "\n",
    "# GUI creation codes \n",
    "root = Tk()\n",
    "root.title(\"GIG Logistics Employee Checker\")\n",
    "\n",
    "Label(root, text=\"Name:\").grid(row=0, column=0)\n",
    "name_entry = Entry(root)\n",
    "name_entry.grid(row=0, column=1)\n",
    "\n",
    "Label(root, text=\"Department:\").grid(row=1, column=0)\n",
    "department_entry = Entry(root)\n",
    "department_entry.grid(row=1, column=1)\n",
    "\n",
    "Button(root, text=\"Check Employee\", command=check_employee).grid(row=2, column=0, columnspan=2)\n",
    "\n",
    "welcome_label = Label(root, text=\"\")\n",
    "welcome_label.grid(row=3, column=0, columnspan=2)\n",
    "\n",
    "members_label = Label(root, text=\"\")\n",
    "members_label.grid(row=4, column=0, columnspan=2)\n",
    "\n",
    "root.mainloop()\n"
   ]
  },
  {
   "cell_type": "code",
   "execution_count": null,
   "id": "e53a5cd2",
   "metadata": {},
   "outputs": [],
   "source": []
  },
  {
   "cell_type": "code",
   "execution_count": 33,
   "id": "6e5da3d1-b4dd-43be-ae23-49cc0b8d723c",
   "metadata": {},
   "outputs": [],
   "source": []
  },
  {
   "cell_type": "code",
   "execution_count": null,
   "id": "3c72bc4e-0904-48ef-9bc3-eba00d07b1bf",
   "metadata": {},
   "outputs": [],
   "source": [
    "def check_employee():\n",
    "    name = name_field.get().strip().title()\n",
    "    department = department_field.get().strip().lower()\n",
    "\n",
    "    employee_data = employees[(employees['SURNAME'] == name) and (employees['department'] == department)]\n",
    "\n",
    "    if employee_data.any():\n",
    "        welcome_label.config(text=f\"Welcome {name} from {department} department!\")\n",
    "        members = employees.loc[employees['department'] == department, 'SURNAME'].tolist()\n",
    "        members.remove(name)\n",
    "        members_label.config(text=f\"Other members in {department} department:\\n\" + \"\\n\".join(members))\n",
    "    else:\n",
    "        welcome_label.config(text=\"Employee does not exist.\")\n",
    "\n",
    "    # disable the input fields\n",
    "    name_field.config(state='disabled')\n",
    "    department_field.config(state='disabled')\n",
    "\n",
    "# GUI creation codes \n",
    "root = Tk()\n",
    "root.title(\"GIG Logistics Employee Checker\")\n",
    "\n",
    "Label(root, text=\"Name:\").grid(row=0, column=0)\n",
    "name_field = Entry(root)\n",
    "name_field.grid(row=0, column=1)\n",
    "\n",
    "Label(root, text=\"Department:\").grid(row=1, column=0)\n",
    "department_field = Entry(root)\n",
    "department_field.grid(row=1, column=1)\n",
    "\n",
    "Button(root, text=\"Check Employee\", command=check_employee).grid(row=2, column=0, columnspan=2)\n",
    "\n",
    "welcome_label = Label(root, text=\"\")\n",
    "welcome_label.grid(row=3, column=0, columnspan=2)\n",
    "\n",
    "members_label = Label(root, text=\"\")\n",
    "members_label.grid(row=4, column=0, columnspan=2)\n",
    "\n",
    "root.mainloop()"
   ]
  }
 ],
 "metadata": {
  "kernelspec": {
   "display_name": "Python 3 (ipykernel)",
   "language": "python",
   "name": "python3"
  },
  "language_info": {
   "codemirror_mode": {
    "name": "ipython",
    "version": 3
   },
   "file_extension": ".py",
   "mimetype": "text/x-python",
   "name": "python",
   "nbconvert_exporter": "python",
   "pygments_lexer": "ipython3",
   "version": "3.12.2"
  }
 },
 "nbformat": 4,
 "nbformat_minor": 5
}
