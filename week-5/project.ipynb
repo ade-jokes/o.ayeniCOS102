{
 "cells": [
  {
   "cell_type": "code",
   "execution_count": 27,
   "id": "493e754d-3ae2-49cd-8cf0-cfb0bac25b8b",
   "metadata": {},
   "outputs": [],
   "source": [
    "import pandas as pd\n",
    "from tkinter import *\n",
    "\n",
    "# read the dataset\n",
    "try:\n",
    "    employees = pd.read_csv('GIG-logistics.csv')\n",
    "except FileNotFoundError:\n",
    "    print(\"File not found\")\n",
    "    employees = pd.DataFrame()\n",
    "\n",
    "# Function to check employee and display the  details\n",
    "def check_employee():\n",
    "    name = name_field.get().strip().title()\n",
    "    department = department_field.get().strip().lower()\n",
    "\n",
    "    employee_data = employees[(employees['SURNAME'] == name) & (employees['department'] == department)]\n",
    "\n",
    "    if employee_data.any():\n",
    "        welcome_label.config(text=f\"Welcome {name} from {department} department!\")\n",
    "        members = employees.loc[employees['department'] == department, 'SURNAME'].tolist()\n",
    "        members.remove(name)\n",
    "        members_label.config(text=f\"Other members in {department} department:\\n\" + \"\\n\".join(members))\n",
    "    else:\n",
    "        welcome_label.config(text=\"Employee does not exist.\")\n",
    "\n",
    "    # disable the input fields\n",
    "    name_field.config(state='disabled')\n",
    "    department_field.config(state='disabled')\n",
    "\n",
    "# GUI creation codes \n",
    "root = Tk()\n",
    "root.title(\"GIG Logistics Employee Checker\")\n",
    "\n",
    "Label(root, text=\"Name:\").grid(row=0, column=0)\n",
    "name_field = Entry(root)\n",
    "name_field.grid(row=0, column=1)\n",
    "\n",
    "Label(root, text=\"Department:\").grid(row=1, column=0)\n",
    "department_field = Entry(root)\n",
    "department_field.grid(row=1, column=1)\n",
    "\n",
    "Button(root, text=\"Check Employee\", command=check_employee).grid(row=2, column=0, columnspan=2)\n",
    "\n",
    "welcome_label = Label(root, text=\"\")\n",
    "welcome_label.grid(row=3, column=0, columnspan=2)\n",
    "\n",
    "members_label = Label(root, text=\"\")\n",
    "members_label.grid(row=4, column=0, columnspan=2)\n",
    "\n",
    "root.mainloop()"
   ]
  },
  {
   "cell_type": "code",
   "execution_count": 33,
   "id": "6e5da3d1-b4dd-43be-ae23-49cc0b8d723c",
   "metadata": {},
   "outputs": [],
   "source": []
  },
  {
   "cell_type": "code",
   "execution_count": null,
   "id": "3c72bc4e-0904-48ef-9bc3-eba00d07b1bf",
   "metadata": {},
   "outputs": [],
   "source": []
  }
 ],
 "metadata": {
  "kernelspec": {
   "display_name": "Python 3 (ipykernel)",
   "language": "python",
   "name": "python3"
  },
  "language_info": {
   "codemirror_mode": {
    "name": "ipython",
    "version": 3
   },
   "file_extension": ".py",
   "mimetype": "text/x-python",
   "name": "python",
   "nbconvert_exporter": "python",
   "pygments_lexer": "ipython3",
   "version": "3.11.7"
  }
 },
 "nbformat": 4,
 "nbformat_minor": 5
}
